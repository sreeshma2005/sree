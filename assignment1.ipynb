{
  "nbformat": 4,
  "nbformat_minor": 0,
  "metadata": {
    "colab": {
      "provenance": []
    },
    "kernelspec": {
      "name": "python3",
      "display_name": "Python 3"
    },
    "language_info": {
      "name": "python"
    }
  },
  "cells": [
    {
      "cell_type": "code",
      "execution_count": null,
      "metadata": {
        "colab": {
          "base_uri": "https://localhost:8080/"
        },
        "id": "EbQvusuqhjZ0",
        "outputId": "258481fd-0c84-4eb6-b462-6be65c5ff953"
      },
      "outputs": [
        {
          "output_type": "stream",
          "name": "stdout",
          "text": [
            "enter the first number3\n",
            "enter the second number1\n",
            "4\n"
          ]
        }
      ],
      "source": [
        "a= int(input('enter the first number'))\n",
        "b=int(input('enter the second number'))\n",
        "s=a+b\n",
        "print(s)"
      ]
    },
    {
      "cell_type": "code",
      "source": [
        "a=int(input('enter the first number'))\n",
        "b=int (input(' enter the second number'))\n",
        "s=a*b\n",
        "print(s)"
      ],
      "metadata": {
        "colab": {
          "base_uri": "https://localhost:8080/"
        },
        "id": "8EMvhvUiiY1O",
        "outputId": "c41098ee-8674-4539-b5dd-cd5e738da0f0"
      },
      "execution_count": null,
      "outputs": [
        {
          "output_type": "stream",
          "name": "stdout",
          "text": [
            "enter the first number5\n",
            " enter the second number2\n",
            "10\n"
          ]
        }
      ]
    },
    {
      "cell_type": "code",
      "source": [
        "\n",
        "a=int(input('enter the first number'))\n",
        "b=int(input('enter the second number'))\n",
        "q=a/b\n",
        "r=a%b\n",
        "print(q)\n",
        "print(r)"
      ],
      "metadata": {
        "colab": {
          "base_uri": "https://localhost:8080/"
        },
        "id": "cD0l5L3bjLL6",
        "outputId": "5b856724-2fa1-4558-eba8-91d8777bbdc3"
      },
      "execution_count": null,
      "outputs": [
        {
          "output_type": "stream",
          "name": "stdout",
          "text": [
            "enter the first number10\n",
            "enter the second number2\n",
            "5.0\n",
            "0\n"
          ]
        }
      ]
    },
    {
      "cell_type": "code",
      "source": [
        "A='ICT'\n",
        "len(A)"
      ],
      "metadata": {
        "colab": {
          "base_uri": "https://localhost:8080/"
        },
        "id": "3f3gCxS7lcEU",
        "outputId": "002eaa45-95a3-4b15-fd46-8993fe23b370"
      },
      "execution_count": null,
      "outputs": [
        {
          "output_type": "execute_result",
          "data": {
            "text/plain": [
              "3"
            ]
          },
          "metadata": {},
          "execution_count": 5
        }
      ]
    },
    {
      "cell_type": "code",
      "source": [
        "a=input('enter the string')\n",
        "count=a.count('o')\n",
        "print(count)"
      ],
      "metadata": {
        "id": "JVxuVL-rmBAv",
        "colab": {
          "base_uri": "https://localhost:8080/"
        },
        "outputId": "d36ffed6-fa47-40e4-9252-a0627f64bb3b"
      },
      "execution_count": null,
      "outputs": [
        {
          "output_type": "stream",
          "name": "stdout",
          "text": [
            "enter the stringcook\n",
            "2\n"
          ]
        }
      ]
    },
    {
      "cell_type": "code",
      "source": [
        "s=input('enter thr string')\n",
        "r=s.upper()\n",
        "print(r)"
      ],
      "metadata": {
        "colab": {
          "base_uri": "https://localhost:8080/"
        },
        "id": "1lFS5cxQeNdU",
        "outputId": "9a4923e0-33b8-4863-9687-e821d4c2e817"
      },
      "execution_count": null,
      "outputs": [
        {
          "output_type": "stream",
          "name": "stdout",
          "text": [
            "enter thr stringdata\n",
            "DATA\n"
          ]
        }
      ]
    },
    {
      "cell_type": "code",
      "source": [
        "a=input('enter the string')\n",
        "b=a.lower()\n",
        "print(b)"
      ],
      "metadata": {
        "colab": {
          "base_uri": "https://localhost:8080/"
        },
        "id": "gFT0uzZRe-S3",
        "outputId": "1a4aa7ab-fa39-446a-d41c-90f81aa2263f"
      },
      "execution_count": null,
      "outputs": [
        {
          "output_type": "stream",
          "name": "stdout",
          "text": [
            "enter the stringINPUT\n",
            "input\n"
          ]
        }
      ]
    },
    {
      "cell_type": "code",
      "source": [],
      "metadata": {
        "id": "nTaYkOUvfbw2"
      },
      "execution_count": null,
      "outputs": []
    }
  ]
}