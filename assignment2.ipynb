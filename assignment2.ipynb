{
  "nbformat": 4,
  "nbformat_minor": 0,
  "metadata": {
    "colab": {
      "provenance": []
    },
    "kernelspec": {
      "name": "python3",
      "display_name": "Python 3"
    },
    "language_info": {
      "name": "python"
    }
  },
  "cells": [
    {
      "cell_type": "markdown",
      "source": [
        "**PRACTICE QUASTIONS**"
      ],
      "metadata": {
        "id": "2k3HSsHpmflf"
      }
    },
    {
      "cell_type": "code",
      "execution_count": null,
      "metadata": {
        "id": "2PstKYvymXgb"
      },
      "outputs": [],
      "source": [
        "#1.Area of rectangle"
      ]
    },
    {
      "cell_type": "code",
      "source": [
        "height=int (input('enter a number'))\n",
        "weidth=int(input('enter a number'))\n",
        "a =height*weidth\n",
        "print(a)"
      ],
      "metadata": {
        "colab": {
          "base_uri": "https://localhost:8080/"
        },
        "id": "4swuTzmNqOGJ",
        "outputId": "17431b9b-bf5f-4cff-d487-2b7a91a84d73"
      },
      "execution_count": null,
      "outputs": [
        {
          "output_type": "stream",
          "name": "stdout",
          "text": [
            "enter a number9\n",
            "enter a number7\n",
            "63\n"
          ]
        }
      ]
    },
    {
      "cell_type": "code",
      "source": [
        "#2.Sum,Difference,Product,and,Quotient"
      ],
      "metadata": {
        "id": "klH0ivnbuBdZ"
      },
      "execution_count": null,
      "outputs": []
    },
    {
      "cell_type": "code",
      "source": [
        "a=int(input('enter a number'))\n",
        "b=int(input('enter a number'))\n",
        "s=a+b\n",
        "d=a-b\n",
        "p=a*b\n",
        "q=a/b\n",
        "print(s)\n",
        "print(d)\n",
        "print(p)\n",
        "print(q)"
      ],
      "metadata": {
        "colab": {
          "base_uri": "https://localhost:8080/"
        },
        "id": "j_IL0wR8xZhU",
        "outputId": "851e710b-b520-4cbe-f743-739519f5f5f2"
      },
      "execution_count": null,
      "outputs": [
        {
          "output_type": "stream",
          "name": "stdout",
          "text": [
            "enter a number10\n",
            "enter a number2\n",
            "12\n",
            "8\n",
            "20\n",
            "5.0\n"
          ]
        }
      ]
    },
    {
      "cell_type": "code",
      "source": [
        "#3.Convert temperature from fahrenheit to clesius and vice versa"
      ],
      "metadata": {
        "id": "XnUvAWEXz6C6"
      },
      "execution_count": null,
      "outputs": []
    },
    {
      "cell_type": "code",
      "source": [
        "F=float(input(' enter a number'))\n",
        "C=(F-32)*5/9\n",
        "print(C)"
      ],
      "metadata": {
        "colab": {
          "base_uri": "https://localhost:8080/"
        },
        "id": "th8Aj5gl0Yi3",
        "outputId": "8f3de133-6f50-4577-b4ca-f5bac798ee2f"
      },
      "execution_count": null,
      "outputs": [
        {
          "output_type": "stream",
          "name": "stdout",
          "text": [
            " enter a number50\n",
            "10.0\n"
          ]
        }
      ]
    },
    {
      "cell_type": "code",
      "source": [
        "C=float(input('enter a number'))\n",
        "f=(C*9/5)+32\n",
        "print(f)"
      ],
      "metadata": {
        "colab": {
          "base_uri": "https://localhost:8080/"
        },
        "id": "TwqYacar1anJ",
        "outputId": "ac982b66-3264-43b3-d986-8c5a3bd40ff6"
      },
      "execution_count": null,
      "outputs": [
        {
          "output_type": "stream",
          "name": "stdout",
          "text": [
            "enter a number30\n",
            "86.0\n"
          ]
        }
      ]
    },
    {
      "cell_type": "code",
      "source": [
        "#4. number is positive or negative"
      ],
      "metadata": {
        "id": "l5UMH3-s3603"
      },
      "execution_count": null,
      "outputs": []
    },
    {
      "cell_type": "code",
      "source": [
        "num=int(input('enter a number'))\n",
        "if a>0:\n",
        " print('num is positive')\n",
        "elif a<0:\n",
        " print('num is negative')"
      ],
      "metadata": {
        "colab": {
          "base_uri": "https://localhost:8080/"
        },
        "id": "3tEstL7r4MGN",
        "outputId": "f019dd95-23d3-4900-c182-c1945c644fe8"
      },
      "execution_count": null,
      "outputs": [
        {
          "output_type": "stream",
          "name": "stdout",
          "text": [
            "enter a number4\n",
            "num is positive\n"
          ]
        }
      ]
    },
    {
      "cell_type": "code",
      "source": [
        "#5.write a python function  that determine if a year is a leap year"
      ],
      "metadata": {
        "id": "Qm3yeSRH4mW5"
      },
      "execution_count": null,
      "outputs": []
    },
    {
      "cell_type": "code",
      "source": [
        "y=int(input('enter  the year'))\n",
        "if y%4==0:\n",
        "  print(\"it is a leap year\")\n",
        "elif y%4!=0:\n",
        "  print(\"it is not a leap year\")\n",
        "elif y%400==0:\n",
        "  print(\"it is a ieap yerar\")\n",
        "elif y%400!=0:\n",
        "  print (\"it is not a leap year \")"
      ],
      "metadata": {
        "colab": {
          "base_uri": "https://localhost:8080/"
        },
        "id": "-PahzwzJ6tAa",
        "outputId": "001e802e-7a01-4bcf-e4a7-81d9af68628e"
      },
      "execution_count": null,
      "outputs": [
        {
          "output_type": "stream",
          "name": "stdout",
          "text": [
            "enter  the year2004\n",
            "it is a leap year\n"
          ]
        }
      ]
    },
    {
      "cell_type": "code",
      "source": [
        "#6.Grad scale"
      ],
      "metadata": {
        "id": "8CUHxfC29fKS"
      },
      "execution_count": null,
      "outputs": []
    },
    {
      "cell_type": "code",
      "source": [
        "mark=int(input('enter mark'))\n",
        "if mark>90:\n",
        "  print('A')\n",
        "elif mark>80:\n",
        "  print('B')\n",
        "elif mark>70:\n",
        "  print('C')\n",
        "elif mark>60:\n",
        "  print('D')\n",
        "else:\n",
        "  print('F')"
      ],
      "metadata": {
        "colab": {
          "base_uri": "https://localhost:8080/"
        },
        "id": "sgFN18hABsyK",
        "outputId": "d7fd2a3c-11c9-41f1-a33a-24a0210b598b"
      },
      "execution_count": null,
      "outputs": [
        {
          "output_type": "stream",
          "name": "stdout",
          "text": [
            "enter mark0\n",
            "F\n"
          ]
        }
      ]
    },
    {
      "cell_type": "code",
      "source": [
        "#7.print 10 to 1"
      ],
      "metadata": {
        "id": "jM6AVaCZDDYe"
      },
      "execution_count": null,
      "outputs": []
    },
    {
      "cell_type": "code",
      "source": [
        "for num in range (10,0,-1):\n",
        " print(num)"
      ],
      "metadata": {
        "colab": {
          "base_uri": "https://localhost:8080/"
        },
        "id": "MEa7pAELEHPe",
        "outputId": "119b72a1-cb0f-4226-9bb1-422a1968a8ec"
      },
      "execution_count": null,
      "outputs": [
        {
          "output_type": "stream",
          "name": "stdout",
          "text": [
            "10\n",
            "9\n",
            "8\n",
            "7\n",
            "6\n",
            "5\n",
            "4\n",
            "3\n",
            "2\n",
            "1\n"
          ]
        }
      ]
    },
    {
      "cell_type": "code",
      "source": [
        "#8.print even numbers from 1to 20"
      ],
      "metadata": {
        "id": "sHnh625zEy6p"
      },
      "execution_count": null,
      "outputs": []
    },
    {
      "cell_type": "code",
      "source": [
        "for i in range (2,22,2):\n",
        " print (i)"
      ],
      "metadata": {
        "colab": {
          "base_uri": "https://localhost:8080/"
        },
        "id": "-sdEV7k1Fjbj",
        "outputId": "71fd5410-268c-46b5-b0dd-12ea910dc58b"
      },
      "execution_count": null,
      "outputs": [
        {
          "output_type": "stream",
          "name": "stdout",
          "text": [
            "2\n",
            "4\n",
            "6\n",
            "8\n",
            "10\n",
            "12\n",
            "14\n",
            "16\n",
            "18\n",
            "20\n"
          ]
        }
      ]
    },
    {
      "cell_type": "code",
      "source": [
        "#9.Multiplication table"
      ],
      "metadata": {
        "id": "bsA6i_I4G6Id"
      },
      "execution_count": null,
      "outputs": []
    },
    {
      "cell_type": "code",
      "source": [
        "n=int(input('enter a number'))\n",
        "for i in range (1,11):\n",
        "  print(i,'x',i,'=',i*n)"
      ],
      "metadata": {
        "colab": {
          "base_uri": "https://localhost:8080/"
        },
        "id": "zJZppJiXI98m",
        "outputId": "8644f51f-2baf-4649-f553-a1831bb79d31"
      },
      "execution_count": null,
      "outputs": [
        {
          "output_type": "stream",
          "name": "stdout",
          "text": [
            "enter a number5\n",
            "1 x 1 = 5\n",
            "2 x 2 = 10\n",
            "3 x 3 = 15\n",
            "4 x 4 = 20\n",
            "5 x 5 = 25\n",
            "6 x 6 = 30\n",
            "7 x 7 = 35\n",
            "8 x 8 = 40\n",
            "9 x 9 = 45\n",
            "10 x 10 = 50\n"
          ]
        }
      ]
    },
    {
      "cell_type": "code",
      "source": [],
      "metadata": {
        "id": "PPNfpJ8nKFxd"
      },
      "execution_count": null,
      "outputs": []
    }
  ]
}