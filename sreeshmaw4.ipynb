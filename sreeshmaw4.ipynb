{
  "cells": [
    {
      "cell_type": "markdown",
      "metadata": {
        "id": "FbvNOZhqr9tt"
      },
      "source": [
        "**Create a NumPy array of integers from 1 to 10.**"
      ]
    },
    {
      "cell_type": "code",
      "execution_count": null,
      "metadata": {
        "id": "5We0y3DsscXE"
      },
      "outputs": [],
      "source": [
        "import numpy as np"
      ]
    },
    {
      "cell_type": "code",
      "execution_count": null,
      "metadata": {
        "colab": {
          "base_uri": "https://localhost:8080/"
        },
        "id": "pIFnjIo9sk2T",
        "outputId": "f02e448e-9129-470e-d900-2bedb7ffba42"
      },
      "outputs": [
        {
          "data": {
            "text/plain": [
              "array([ 1,  2,  3,  4,  5,  6,  7,  8,  9, 10])"
            ]
          },
          "execution_count": 4,
          "metadata": {},
          "output_type": "execute_result"
        }
      ],
      "source": [
        "np.arange(1,11)"
      ]
    },
    {
      "cell_type": "markdown",
      "metadata": {
        "id": "cCQTVFgGs3Hq"
      },
      "source": [
        "**Create a 2x3 NumPy array filled with zeros.**"
      ]
    },
    {
      "cell_type": "code",
      "execution_count": null,
      "metadata": {
        "colab": {
          "base_uri": "https://localhost:8080/"
        },
        "id": "21fj_fJuso2D",
        "outputId": "586d9a90-9208-444b-c693-157796fe8e76"
      },
      "outputs": [
        {
          "data": {
            "text/plain": [
              "array([[0., 0., 0.],\n",
              "       [0., 0., 0.]])"
            ]
          },
          "execution_count": 6,
          "metadata": {},
          "output_type": "execute_result"
        }
      ],
      "source": [
        "np.zeros((2,3))"
      ]
    },
    {
      "cell_type": "markdown",
      "metadata": {
        "id": "yXZwv2PPtUTM"
      },
      "source": [
        "**Create a NumPy array of even numbers from 2 to 20.**"
      ]
    },
    {
      "cell_type": "code",
      "execution_count": null,
      "metadata": {
        "colab": {
          "base_uri": "https://localhost:8080/"
        },
        "id": "u6ia4P16tDXQ",
        "outputId": "9ef034b4-cec5-4a41-8444-91161f8eadb1"
      },
      "outputs": [
        {
          "data": {
            "text/plain": [
              "array([ 2,  4,  6,  8, 10, 12, 14, 16, 18, 20])"
            ]
          },
          "execution_count": 7,
          "metadata": {},
          "output_type": "execute_result"
        }
      ],
      "source": [
        "np.arange(2,21,2)"
      ]
    },
    {
      "cell_type": "markdown",
      "metadata": {
        "id": "IqXPlr8wtsED"
      },
      "source": [
        "**Given two NumPy arrays, arr1 = np.array([1, 2, 3]) and arr2 = np.array([4,\n",
        "5, 6]), perform element-wise addition, subtraction, multiplication, and\n",
        "division between the two arrays.**"
      ]
    },
    {
      "cell_type": "code",
      "execution_count": null,
      "metadata": {
        "id": "tPBiCvgztmZ9"
      },
      "outputs": [],
      "source": [
        "arr1=np.array([1,2,3])"
      ]
    },
    {
      "cell_type": "code",
      "execution_count": null,
      "metadata": {
        "id": "NsBeJUZ8t9Uy"
      },
      "outputs": [],
      "source": [
        "arr2=np.array([4,5,6])"
      ]
    },
    {
      "cell_type": "code",
      "execution_count": null,
      "metadata": {
        "colab": {
          "base_uri": "https://localhost:8080/"
        },
        "id": "tov9-bV_uC2S",
        "outputId": "d8b16b50-0291-468e-b0c7-9d498f19a928"
      },
      "outputs": [
        {
          "data": {
            "text/plain": [
              "array([5, 7, 9])"
            ]
          },
          "execution_count": 11,
          "metadata": {},
          "output_type": "execute_result"
        }
      ],
      "source": [
        "arr1+arr2"
      ]
    },
    {
      "cell_type": "code",
      "execution_count": null,
      "metadata": {
        "colab": {
          "base_uri": "https://localhost:8080/"
        },
        "id": "_T44ZNqpuJbL",
        "outputId": "117ffb54-ee98-4248-a369-33642e8bc69b"
      },
      "outputs": [
        {
          "data": {
            "text/plain": [
              "array([-3, -3, -3])"
            ]
          },
          "execution_count": 12,
          "metadata": {},
          "output_type": "execute_result"
        }
      ],
      "source": [
        "arr1-arr2"
      ]
    },
    {
      "cell_type": "code",
      "execution_count": null,
      "metadata": {
        "colab": {
          "base_uri": "https://localhost:8080/"
        },
        "id": "NY6BI5qTuMpL",
        "outputId": "f7fe310a-3402-4281-e03a-21177f84a186"
      },
      "outputs": [
        {
          "data": {
            "text/plain": [
              "array([ 4, 10, 18])"
            ]
          },
          "execution_count": 13,
          "metadata": {},
          "output_type": "execute_result"
        }
      ],
      "source": [
        "arr1*arr2"
      ]
    },
    {
      "cell_type": "code",
      "execution_count": null,
      "metadata": {
        "colab": {
          "base_uri": "https://localhost:8080/"
        },
        "id": "sPF3moLGuXAx",
        "outputId": "e61062f6-7726-4e52-b024-a96c8e2050ef"
      },
      "outputs": [
        {
          "data": {
            "text/plain": [
              "array([0.25, 0.4 , 0.5 ])"
            ]
          },
          "execution_count": 15,
          "metadata": {},
          "output_type": "execute_result"
        }
      ],
      "source": [
        "arr1/arr2"
      ]
    },
    {
      "cell_type": "markdown",
      "metadata": {
        "id": "q0ahLHwfurLE"
      },
      "source": [
        "**Compute the mean, median, and standard deviation of a NumPy array\n",
        "containing 100 random numbers.**"
      ]
    },
    {
      "cell_type": "code",
      "execution_count": null,
      "metadata": {
        "colab": {
          "base_uri": "https://localhost:8080/"
        },
        "id": "Tr0aySU8udgR",
        "outputId": "e5b80c9c-8974-4d0e-c5b3-2521c1d86de6"
      },
      "outputs": [
        {
          "data": {
            "text/plain": [
              "array([0.87754817, 0.91505109, 0.80809788, 0.50768655, 0.21660855,\n",
              "       0.08071887, 0.66496276, 0.37280755, 0.90984565, 0.83542655,\n",
              "       0.67868072, 0.61993799, 0.4752839 , 0.26521206, 0.01668566,\n",
              "       0.69742153, 0.06480714, 0.22766463, 0.73683632, 0.0041499 ,\n",
              "       0.23861241, 0.22199845, 0.86067997, 0.44538953, 0.64594145,\n",
              "       0.6004498 , 0.02917057, 0.15060738, 0.05088884, 0.3086813 ,\n",
              "       0.04982493, 0.88516819, 0.29143134, 0.05663712, 0.73740369,\n",
              "       0.20687725, 0.47155024, 0.2369323 , 0.49218926, 0.75117228,\n",
              "       0.97143888, 0.57981167, 0.71562391, 0.77799482, 0.52033627,\n",
              "       0.88512019, 0.56641661, 0.29290056, 0.80142566, 0.81478818,\n",
              "       0.87269909, 0.50828264, 0.91879344, 0.80983145, 0.2473262 ,\n",
              "       0.15521354, 0.61707725, 0.84801728, 0.65150168, 0.22698899,\n",
              "       0.11452807, 0.54683633, 0.85002458, 0.82440186, 0.4323279 ,\n",
              "       0.58183008, 0.59456655, 0.78012164, 0.15631318, 0.11390202,\n",
              "       0.08617041, 0.60346133, 0.91017345, 0.27271693, 0.01180721,\n",
              "       0.95252701, 0.70493804, 0.5605784 , 0.67886672, 0.8335492 ,\n",
              "       0.12022489, 0.51941787, 0.66098145, 0.37710324, 0.63017384,\n",
              "       0.24547622, 0.5209239 , 0.95049333, 0.46928266, 0.32970702,\n",
              "       0.91737208, 0.32946   , 0.16410105, 0.07368448, 0.73606527,\n",
              "       0.40252846, 0.36600804, 0.45282279, 0.74012815, 0.24773   ])"
            ]
          },
          "execution_count": 16,
          "metadata": {},
          "output_type": "execute_result"
        }
      ],
      "source": [
        "arr4=np.random.rand(100)\n",
        "arr4"
      ]
    },
    {
      "cell_type": "code",
      "execution_count": null,
      "metadata": {
        "colab": {
          "base_uri": "https://localhost:8080/"
        },
        "id": "3D1v4OsIu9Ar",
        "outputId": "2d2aeeea-88bf-4c72-e929-40860aa6f3ec"
      },
      "outputs": [
        {
          "data": {
            "text/plain": [
              "0.50351953709671"
            ]
          },
          "execution_count": 17,
          "metadata": {},
          "output_type": "execute_result"
        }
      ],
      "source": [
        "arr4=arr4.mean()\n",
        "arr4"
      ]
    },
    {
      "cell_type": "markdown",
      "metadata": {
        "id": "6JwIGpP6vbF1"
      },
      "source": [
        "**Reshape a 1D NumPy array of 12 random elements into a 2D array with a\n",
        "shape of (3, 4)**"
      ]
    },
    {
      "cell_type": "code",
      "execution_count": null,
      "metadata": {
        "id": "rGKhiq-CvHhS"
      },
      "outputs": [],
      "source": [
        "arr4=np.random.randint(0,20,12)"
      ]
    },
    {
      "cell_type": "code",
      "execution_count": null,
      "metadata": {
        "colab": {
          "base_uri": "https://localhost:8080/"
        },
        "id": "z9BkgByVvt7R",
        "outputId": "0cbca06c-309a-49e1-ef59-a4b05b352023"
      },
      "outputs": [
        {
          "data": {
            "text/plain": [
              "array([ 5,  6, 11,  3, 17, 16, 13, 14,  0,  4, 15, 19])"
            ]
          },
          "execution_count": 21,
          "metadata": {},
          "output_type": "execute_result"
        }
      ],
      "source": [
        "arr4"
      ]
    },
    {
      "cell_type": "code",
      "execution_count": null,
      "metadata": {
        "colab": {
          "base_uri": "https://localhost:8080/"
        },
        "id": "ECnVz3YMvvch",
        "outputId": "0d8b5b4e-965a-401b-c594-1ca313b3f587"
      },
      "outputs": [
        {
          "data": {
            "text/plain": [
              "array([[ 5,  6, 11,  3],\n",
              "       [17, 16, 13, 14],\n",
              "       [ 0,  4, 15, 19]])"
            ]
          },
          "execution_count": 26,
          "metadata": {},
          "output_type": "execute_result"
        }
      ],
      "source": [
        "arr5=arr4.reshape(3,4)\n",
        "arr5"
      ]
    },
    {
      "cell_type": "markdown",
      "metadata": {
        "id": "8cM0LQoHw--n"
      },
      "source": [
        "**Given a NumPy array arr = np.array([1, 2, 3, 4, 5]), square each element in the array using NumPy functions.**"
      ]
    },
    {
      "cell_type": "code",
      "execution_count": null,
      "metadata": {
        "colab": {
          "base_uri": "https://localhost:8080/"
        },
        "id": "XhGeRPTHwnaz",
        "outputId": "0bedc468-37f5-488a-93d2-6e5a5a850e2c"
      },
      "outputs": [
        {
          "data": {
            "text/plain": [
              "array([1, 2, 3, 4, 5])"
            ]
          },
          "execution_count": 28,
          "metadata": {},
          "output_type": "execute_result"
        }
      ],
      "source": [
        "arr=np.array([1,2,3,4,5])\n",
        "arr"
      ]
    },
    {
      "cell_type": "code",
      "execution_count": null,
      "metadata": {
        "colab": {
          "base_uri": "https://localhost:8080/"
        },
        "id": "I77QxeRoxLfe",
        "outputId": "74c0d72f-035f-4a72-9a0c-f323c119ad9e"
      },
      "outputs": [
        {
          "data": {
            "text/plain": [
              "array([ 1,  4,  9, 16, 25])"
            ]
          },
          "execution_count": 30,
          "metadata": {},
          "output_type": "execute_result"
        }
      ],
      "source": [
        "np.square(arr)"
      ]
    },
    {
      "cell_type": "markdown",
      "metadata": {
        "id": "0Ye05ClLxawG"
      },
      "source": [
        "**Create a 5x5 identity matrix using NumPy.**"
      ]
    },
    {
      "cell_type": "code",
      "execution_count": null,
      "metadata": {
        "colab": {
          "base_uri": "https://localhost:8080/"
        },
        "id": "ZiYrVFKBxSFu",
        "outputId": "f19bfb7f-be1e-44b0-eb50-1366704409db"
      },
      "outputs": [
        {
          "data": {
            "text/plain": [
              "array([[1., 0., 0., 0., 0.],\n",
              "       [0., 1., 0., 0., 0.],\n",
              "       [0., 0., 1., 0., 0.],\n",
              "       [0., 0., 0., 1., 0.],\n",
              "       [0., 0., 0., 0., 1.]])"
            ]
          },
          "execution_count": 32,
          "metadata": {},
          "output_type": "execute_result"
        }
      ],
      "source": [
        "arr=np.eye(5,5)\n",
        "arr"
      ]
    },
    {
      "cell_type": "markdown",
      "metadata": {
        "id": "abZXT-XXx1La"
      },
      "source": [
        "**Calculate the dot product of two NumPy arrays, a = np.array([1, 2, 3]) and\n",
        "b = np.array([4, 5, 6])**"
      ]
    },
    {
      "cell_type": "code",
      "execution_count": null,
      "metadata": {
        "id": "noKAFj3gx5Ma"
      },
      "outputs": [],
      "source": [
        "a=np.array([1,2,3])"
      ]
    },
    {
      "cell_type": "code",
      "execution_count": null,
      "metadata": {
        "id": "vUoBPXBjxuZ3"
      },
      "outputs": [],
      "source": [
        "b=np.array([4,5,6])"
      ]
    },
    {
      "cell_type": "code",
      "execution_count": null,
      "metadata": {
        "colab": {
          "base_uri": "https://localhost:8080/"
        },
        "id": "99HPncXuyCt6",
        "outputId": "10818992-3dfc-4ba4-b1a4-8cc1fb2553d9"
      },
      "outputs": [
        {
          "data": {
            "text/plain": [
              "32"
            ]
          },
          "execution_count": 35,
          "metadata": {},
          "output_type": "execute_result"
        }
      ],
      "source": [
        "a.dot(b)"
      ]
    },
    {
      "cell_type": "markdown",
      "metadata": {
        "id": "SgHVJ5BeyNMy"
      },
      "source": [
        "**Find the index of the maximum value and the index of the minimum value\n",
        "in a NumPy array.**"
      ]
    },
    {
      "cell_type": "code",
      "execution_count": null,
      "metadata": {
        "id": "6EERHrxKyJrp"
      },
      "outputs": [],
      "source": [
        "a=np.array([4,5,6,7])"
      ]
    },
    {
      "cell_type": "code",
      "execution_count": null,
      "metadata": {
        "colab": {
          "base_uri": "https://localhost:8080/"
        },
        "id": "Jye_TXSxyX-4",
        "outputId": "3f289a09-cc18-4b62-95bf-553d344e7723"
      },
      "outputs": [
        {
          "data": {
            "text/plain": [
              "array([4, 5, 6, 7])"
            ]
          },
          "execution_count": 37,
          "metadata": {},
          "output_type": "execute_result"
        }
      ],
      "source": [
        "a"
      ]
    },
    {
      "cell_type": "code",
      "execution_count": null,
      "metadata": {
        "colab": {
          "base_uri": "https://localhost:8080/"
        },
        "id": "tF-mtxjQyal4",
        "outputId": "796020a9-e621-4574-ffc4-5a4a7f486bb1"
      },
      "outputs": [
        {
          "data": {
            "text/plain": [
              "3"
            ]
          },
          "execution_count": 38,
          "metadata": {},
          "output_type": "execute_result"
        }
      ],
      "source": [
        "a.argmax()"
      ]
    },
    {
      "cell_type": "code",
      "execution_count": null,
      "metadata": {
        "colab": {
          "base_uri": "https://localhost:8080/"
        },
        "id": "9-oJWikQyfUo",
        "outputId": "6602c70f-94a1-4b84-c250-33c20bd4f498"
      },
      "outputs": [
        {
          "data": {
            "text/plain": [
              "0"
            ]
          },
          "execution_count": 39,
          "metadata": {},
          "output_type": "execute_result"
        }
      ],
      "source": [
        "a.argmin()"
      ]
    },
    {
      "cell_type": "markdown",
      "metadata": {
        "id": "CmAo2IMajolI"
      },
      "source": [
        "**Concatenate two random NumPy arrays horizontally and vertically**"
      ]
    },
    {
      "cell_type": "code",
      "execution_count": null,
      "metadata": {
        "colab": {
          "base_uri": "https://localhost:8080/"
        },
        "id": "PPqO2Uhnylx3",
        "outputId": "2c3c5a07-7d50-4b18-a23e-3da82a925330"
      },
      "outputs": [
        {
          "name": "stdout",
          "output_type": "stream",
          "text": [
            "vertical concatenate-\n",
            " [[0. 0. 0. 0.]\n",
            " [0. 0. 0. 0.]\n",
            " [0. 0. 0. 0.]\n",
            " [0. 0. 0. 0.]\n",
            " [1. 1. 1. 1.]\n",
            " [1. 1. 1. 1.]\n",
            " [1. 1. 1. 1.]\n",
            " [1. 1. 1. 1.]]\n",
            "horizontal concatenate-\n",
            " [[0. 0. 0. 0. 1. 1. 1. 1.]\n",
            " [0. 0. 0. 0. 1. 1. 1. 1.]\n",
            " [0. 0. 0. 0. 1. 1. 1. 1.]\n",
            " [0. 0. 0. 0. 1. 1. 1. 1.]]\n"
          ]
        }
      ],
      "source": [
        "a=np.zeros((4,4))\n",
        "b=np.ones((4,4))\n",
        "c=np.concatenate((a,b))\n",
        "d=np.concatenate((a,b),axis=1)\n",
        "print(\"vertical concatenate-\\n\",c)\n",
        "print(\"horizontal concatenate-\\n\",d)"
      ]
    },
    {
      "cell_type": "markdown",
      "metadata": {
        "id": "0_SMgw66lJes"
      },
      "source": [
        "**Given a 2D NumPy array, calculate the sum of each row and each column\n",
        "separately.**"
      ]
    },
    {
      "cell_type": "code",
      "execution_count": null,
      "metadata": {
        "colab": {
          "base_uri": "https://localhost:8080/"
        },
        "id": "_KlIx9iwkqVu",
        "outputId": "79bc4386-593e-4685-f681-f99073744b10"
      },
      "outputs": [
        {
          "name": "stdout",
          "output_type": "stream",
          "text": [
            "[[ 1  2  3  4]\n",
            " [ 5  6  7  8]\n",
            " [ 9 10 11 12]\n",
            " [13 14 15 16]]\n",
            "sum of each colum is [28 32 36 40]\n",
            "sum of each row is [10 26 42 58]\n"
          ]
        }
      ],
      "source": [
        "arr=np.arange(1,17).reshape(4,4)\n",
        "print(arr)\n",
        "print(\"sum of each colum is\",np.sum(arr,axis=0))\n",
        "print(\"sum of each row is\",np.sum(arr,axis=1))"
      ]
    },
    {
      "cell_type": "markdown",
      "metadata": {
        "id": "kY-VBp0CnqHz"
      },
      "source": [
        "**Find the common elements between two NumPy arrays.**"
      ]
    },
    {
      "cell_type": "code",
      "execution_count": null,
      "metadata": {
        "colab": {
          "base_uri": "https://localhost:8080/"
        },
        "id": "ivEcXvspnxdi",
        "outputId": "7faa40bc-55ec-4505-d02c-1676d09f0f0a"
      },
      "outputs": [
        {
          "name": "stdout",
          "output_type": "stream",
          "text": [
            "The common element between a and b are [1 3 5]\n"
          ]
        }
      ],
      "source": [
        "a=np.array([[3,2],[5,6],[1,7]])\n",
        "b=np.array([[3,1],[5,4],[0,8]])\n",
        "c=np.intersect1d(a,b)\n",
        "print(\"The common element between a and b are\",c)"
      ]
    },
    {
      "cell_type": "markdown",
      "metadata": {
        "id": "E-_reEPapUxF"
      },
      "source": [
        "**Replace all negative values in a NumPy array with zeros.**"
      ]
    },
    {
      "cell_type": "code",
      "execution_count": null,
      "metadata": {
        "colab": {
          "base_uri": "https://localhost:8080/"
        },
        "id": "efgrsdu0pMk9",
        "outputId": "94b97850-a3df-42b9-9582-ccc2c81180c0"
      },
      "outputs": [
        {
          "data": {
            "text/plain": [
              "array([1, 2, 3, 0, 0])"
            ]
          },
          "execution_count": 13,
          "metadata": {},
          "output_type": "execute_result"
        }
      ],
      "source": [
        "a=np.array([1,2,3,-4,-5])\n",
        "a[a<0]=0\n",
        "a"
      ]
    },
    {
      "cell_type": "markdown",
      "metadata": {
        "id": "m_VNg_cTqAbb"
      },
      "source": [
        "**Create a NumPy array with random integers between 1 and 100 and then\n",
        "sort it in ascending order.**"
      ]
    },
    {
      "cell_type": "code",
      "execution_count": null,
      "metadata": {
        "colab": {
          "base_uri": "https://localhost:8080/"
        },
        "id": "bFuafOPVp1M2",
        "outputId": "e7a754f2-43b7-4999-869a-18c17c0476e1"
      },
      "outputs": [
        {
          "data": {
            "text/plain": [
              "array([  0,   0,   1,   3,   3,   3,   4,   5,   9,  11,  13,  14,  14,\n",
              "        15,  15,  17,  17,  18,  19,  20,  21,  21,  23,  24,  25,  26,\n",
              "        31,  31,  31,  32,  34,  36,  36,  38,  39,  41,  42,  42,  43,\n",
              "        44,  44,  48,  48,  49,  49,  50,  50,  51,  51,  51,  53,  53,\n",
              "        53,  54,  55,  56,  57,  58,  58,  60,  61,  61,  61,  62,  65,\n",
              "        65,  65,  66,  67,  68,  69,  70,  73,  75,  77,  78,  83,  84,\n",
              "        85,  86,  88,  89,  89,  90,  90,  91,  93,  93,  93,  95,  95,\n",
              "        95,  95,  97,  98,  98,  99,  99, 100, 100])"
            ]
          },
          "execution_count": 14,
          "metadata": {},
          "output_type": "execute_result"
        }
      ],
      "source": [
        "arr=np.random.randint(0,101,100)\n",
        "arr.sort()\n",
        "arr"
      ]
    },
    {
      "cell_type": "markdown",
      "metadata": {
        "id": "CVPtqr7ywnZv"
      },
      "source": [
        "**Calculate the element-wise absolute difference between two NumPy\n",
        "arrays.**"
      ]
    },
    {
      "cell_type": "code",
      "execution_count": null,
      "metadata": {
        "colab": {
          "base_uri": "https://localhost:8080/"
        },
        "id": "GyFFzdk_qnmX",
        "outputId": "37b3d9de-0ba1-4227-ac0f-6e31256c0413"
      },
      "outputs": [
        {
          "output_type": "stream",
          "name": "stdout",
          "text": [
            "[1 2 3 4]\n"
          ]
        }
      ],
      "source": [
        "a=np.array([1,2,3,4])\n",
        "b=np.array([2,4,6,8])\n",
        "c=np.absolute(a-b)\n",
        "print(c)"
      ]
    },
    {
      "cell_type": "markdown",
      "source": [
        "**Given a 2D NumPy array, extract the first row and the last column.**"
      ],
      "metadata": {
        "id": "2zI_BXNKzKLq"
      }
    },
    {
      "cell_type": "code",
      "source": [
        "arr=np.array([[1,2,4],[3,5,6],[7,8,9]])\n",
        "firstrow=arr[0]\n",
        "lastcol=arr[:,[-1]]\n",
        "print(\"first row is\\n\",firstrow)\n",
        "print(\"late colum is\\n\",lastcol)"
      ],
      "metadata": {
        "colab": {
          "base_uri": "https://localhost:8080/"
        },
        "id": "WyJ8RoQBzdqz",
        "outputId": "c7a8b1a1-b083-4f02-ca3f-526a2098dae9"
      },
      "execution_count": null,
      "outputs": [
        {
          "output_type": "stream",
          "name": "stdout",
          "text": [
            "first row is\n",
            " [1 2 4]\n",
            "late colum is\n",
            " [[4]\n",
            " [6]\n",
            " [9]]\n"
          ]
        }
      ]
    },
    {
      "cell_type": "markdown",
      "source": [
        "**Slice a 1D NumPy array to get every other element.**"
      ],
      "metadata": {
        "id": "D_e5ND270wMm"
      }
    },
    {
      "cell_type": "code",
      "execution_count": null,
      "metadata": {
        "id": "we2AW-vCxLC3",
        "colab": {
          "base_uri": "https://localhost:8080/"
        },
        "outputId": "063d2366-bb5a-423d-dfd7-7246a7308488"
      },
      "outputs": [
        {
          "output_type": "stream",
          "name": "stdout",
          "text": [
            "[1 2 3 4]\n"
          ]
        }
      ],
      "source": [
        "a=np.array([1,2,3,4])\n",
        "x=a[0:len(a)+1]\n",
        "print(x)"
      ]
    },
    {
      "cell_type": "markdown",
      "source": [
        "**9.Given a 2D NumPy array, extract a subarray consisting of the central 2x2\n",
        "elements.**"
      ],
      "metadata": {
        "id": "8lnE4ytj1aWL"
      }
    },
    {
      "cell_type": "code",
      "source": [
        "arr=np.array([[11,12,13,14,15,16],[21,22,23,24,25,26],[31,32,33,34,35,36],[41,42,43,44,45,46],[51,52,53,54,55,56]])\n",
        "a=arr[2:4,[2,3]]\n",
        "print(\"array\\n\",arr)\n",
        "print(\"2x2 array\\n\",a)"
      ],
      "metadata": {
        "colab": {
          "base_uri": "https://localhost:8080/"
        },
        "id": "-6A6chxD1VBD",
        "outputId": "0a431e59-c180-4124-f9b1-dfe0813e9054"
      },
      "execution_count": null,
      "outputs": [
        {
          "output_type": "stream",
          "name": "stdout",
          "text": [
            "array\n",
            " [[11 12 13 14 15 16]\n",
            " [21 22 23 24 25 26]\n",
            " [31 32 33 34 35 36]\n",
            " [41 42 43 44 45 46]\n",
            " [51 52 53 54 55 56]]\n",
            "2x2 array\n",
            " [[33 34]\n",
            " [43 44]]\n"
          ]
        }
      ]
    },
    {
      "cell_type": "markdown",
      "source": [
        "**Reverse a 1D NumPy array using slicing**"
      ],
      "metadata": {
        "id": "06JVeBQG3eNK"
      }
    },
    {
      "cell_type": "code",
      "source": [
        "a=np.array([1,2,3,4])\n",
        "x=a[::-1]\n",
        "x"
      ],
      "metadata": {
        "colab": {
          "base_uri": "https://localhost:8080/"
        },
        "id": "zpXvv5Yw2huK",
        "outputId": "271de8b8-ce93-4dc4-97f9-e4bc3934fd65"
      },
      "execution_count": null,
      "outputs": [
        {
          "output_type": "execute_result",
          "data": {
            "text/plain": [
              "array([4, 3, 2, 1])"
            ]
          },
          "metadata": {},
          "execution_count": 27
        }
      ]
    },
    {
      "cell_type": "code",
      "source": [],
      "metadata": {
        "id": "or6T2ULJ33QV"
      },
      "execution_count": null,
      "outputs": []
    }
  ],
  "metadata": {
    "colab": {
      "provenance": []
    },
    "kernelspec": {
      "display_name": "Python 3",
      "name": "python3"
    },
    "language_info": {
      "name": "python"
    }
  },
  "nbformat": 4,
  "nbformat_minor": 0
}